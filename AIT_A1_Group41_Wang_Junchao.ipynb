{
  "nbformat": 4,
  "nbformat_minor": 0,
  "metadata": {
    "colab": {
      "provenance": []
    },
    "kernelspec": {
      "name": "python3",
      "display_name": "Python 3"
    },
    "language_info": {
      "name": "python"
    }
  },
  "cells": [
    {
      "cell_type": "markdown",
      "source": [
        "# Artificial Intelligence Techniques- Assignment 1- Group 41"
      ],
      "metadata": {
        "id": "opzKB0dv11Es"
      }
    },
    {
      "cell_type": "markdown",
      "source": [
        "### 2.Cookie problem"
      ],
      "metadata": {
        "id": "rnZfQTvU2GLh"
      }
    },
    {
      "cell_type": "markdown",
      "source": [
        "**Coding Exercise 1**"
      ],
      "metadata": {
        "id": "2qrtS7uD2QTf"
      }
    },
    {
      "cell_type": "code",
      "execution_count": 1,
      "metadata": {
        "id": "WCWcm3xYlJ-J"
      },
      "outputs": [],
      "source": [
        "class Bayes:\n",
        "    def __init__(self, hypotheses, priors, observations, likelihood_array):\n",
        "        self.hypotheses = hypotheses\n",
        "        self.priors = priors\n",
        "        self.observations = observations\n",
        "        self.likelihood = likelihood"
      ]
    },
    {
      "cell_type": "markdown",
      "source": [
        "**Coding Exercise 2**"
      ],
      "metadata": {
        "id": "SkT2GnTel1pX"
      }
    },
    {
      "cell_type": "code",
      "source": [
        "    def likelihood(self, observation, hypothesis):\n",
        "        obs_idx = self.observations.index(observation) # find the index of the hypothesis\n",
        "        hyp_idx = self.hypotheses.index(hypothesis)    # find the index of the hypothesis\n",
        "        return self.likelihood[hyp_idx][obs_idx]"
      ],
      "metadata": {
        "id": "6U8GK_qnl3Un"
      },
      "execution_count": 3,
      "outputs": []
    },
    {
      "cell_type": "markdown",
      "source": [
        "**Coding Exercise 3**"
      ],
      "metadata": {
        "id": "rGueRtBBcdIp"
      }
    },
    {
      "cell_type": "code",
      "source": [
        "    def norm_constant(self, observation):\n",
        "        obs_idx = self.observations.index(observation)\n",
        "         # Compute the total probability of the observation\n",
        "        norm_const = sum([self.priors[i] * self.likelihood[i][obs_idx] for i in range(len(self.hypotheses))])\n",
        "        return norm_const"
      ],
      "metadata": {
        "id": "7LzEN58CcfYs"
      },
      "execution_count": 4,
      "outputs": []
    },
    {
      "cell_type": "markdown",
      "source": [
        "**Coding Exercise 4**"
      ],
      "metadata": {
        "id": "wrl5FFudc_St"
      }
    },
    {
      "cell_type": "code",
      "source": [
        "    def single_posterior_update(self, observation):\n",
        "        norm_const = self.norm_constant(observation)\n",
        "        posteriors = []\n",
        "        for i in range(len(self.hypotheses)):\n",
        "            posterior = (self.priors[i] * self.likelihood[i][self.observations.index(observation)]) / norm_const\n",
        "            posteriors.append(posterior)\n",
        "        return posteriors"
      ],
      "metadata": {
        "id": "-zDPWb_FdBJL"
      },
      "execution_count": 6,
      "outputs": []
    },
    {
      "cell_type": "markdown",
      "source": [
        "**Coding Exercise 5**"
      ],
      "metadata": {
        "id": "ZhxMZ694dVA-"
      }
    },
    {
      "cell_type": "code",
      "source": [
        "    def compute_posterior(self, observations_list):\n",
        "        current_priors = self.priors[:]\n",
        "        for obs in observations_list:\n",
        "            current_priors = self.single_posterior_update(obs)\n",
        "        return current_priors\n"
      ],
      "metadata": {
        "id": "6o2YkzbSd7jV"
      },
      "execution_count": 7,
      "outputs": []
    },
    {
      "cell_type": "code",
      "source": [
        "#putting exercise1-5 together\n",
        "class Bayes:\n",
        "    def __init__(self, hypotheses, priors, observations, likelihood):\n",
        "        self.hypotheses = hypotheses\n",
        "        self.priors = priors\n",
        "        self.observations = observations\n",
        "        self.likelihood = likelihood\n",
        "\n",
        "    def likelihood(self, observation, hypothesis):\n",
        "        obs_idx = self.observations.index(observation) # find the index of the hypothesis\n",
        "        hyp_idx = self.hypotheses.index(hypothesis)    # find the index of the hypothesis\n",
        "        return self.likelihood[hyp_idx][obs_idx]\n",
        "\n",
        "    def norm_constant(self, observation):\n",
        "        obs_idx = self.observations.index(observation)\n",
        "         # Compute the total probability of the observation\n",
        "        norm_const = sum([self.priors[i] * self.likelihood[i][obs_idx] for i in range(len(self.hypotheses))])\n",
        "        return norm_const\n",
        "\n",
        "    def single_posterior_update(self, observation):\n",
        "        norm_const = self.norm_constant(observation)\n",
        "        posteriors = []\n",
        "        for i in range(len(self.hypotheses)):\n",
        "            posterior = (self.priors[i] * self.likelihood[i][self.observations.index(observation)]) / norm_const\n",
        "            posteriors.append(posterior)\n",
        "        return posteriors\n",
        "\n",
        "    def compute_posterior(self, observations_list):\n",
        "        current_priors = self.priors[:]\n",
        "        for obs in observations_list:\n",
        "            current_priors = self.single_posterior_update(obs)\n",
        "        return current_priors\n"
      ],
      "metadata": {
        "id": "ZVfMIMIu-ucZ"
      },
      "execution_count": 10,
      "outputs": []
    },
    {
      "cell_type": "markdown",
      "source": [
        "**Question 1**"
      ],
      "metadata": {
        "id": "6q_-qP4R-ikK"
      }
    },
    {
      "cell_type": "code",
      "source": [
        "hypotheses = [\"Bowl 1\", \"Bowl 2\"]\n",
        "priors = [0.5, 0.5]\n",
        "observations = [\"vanilla\", \"chocolate\"]\n",
        "likelihood = [[0.7, 0.3], [0.4, 0.6]]\n",
        "\n",
        "bayes = Bayes(hypotheses, priors, observations, likelihood)\n",
        "prob_bowl1 = bayes.single_posterior_update(\"vanilla\")[0]  # Probability it came from Bowl 1\n",
        "print(\"Probability that the vanilla cookie came from Bowl 1: %.3f\" % prob_bowl1)"
      ],
      "metadata": {
        "colab": {
          "base_uri": "https://localhost:8080/"
        },
        "id": "wHaWIDoRdWKp",
        "outputId": "1ead82bc-c33a-4130-cc86-6956ad3f07b8"
      },
      "execution_count": 20,
      "outputs": [
        {
          "output_type": "stream",
          "name": "stdout",
          "text": [
            "Probability that the vanilla cookie came from Bowl 1: 0.636\n"
          ]
        }
      ]
    },
    {
      "cell_type": "markdown",
      "source": [
        "**Question 2**"
      ],
      "metadata": {
        "id": "OkXTsjc6_pXp"
      }
    },
    {
      "cell_type": "code",
      "source": [
        "hypotheses = [\"Bowl 1\", \"Bowl 2\"]\n",
        "priors = [0.5, 0.5]\n",
        "observations = [\"vanilla\", \"chocolate\"]\n",
        "likelihood = [[0.7, 0.3], [0.4, 0.6]]\n",
        "\n",
        "bayes = Bayes(hypotheses, priors, observations, likelihood)\n",
        "\n",
        "# Posterior for Chocolate followed by Vanilla\n",
        "posterior_choc_van = bayes.compute_posterior([\"chocolate\", \"vanilla\"])[1]\n",
        "\n",
        "# Posterior for Vanilla followed by Chocolate\n",
        "posterior_van_choc = bayes.compute_posterior([\"vanilla\", \"chocolate\"])[1]\n",
        "\n",
        "# Averaging the probabilities because either sequence is equally likely\n",
        "prob_bowl2 = (posterior_choc_van + posterior_van_choc) / 2\n",
        "print(\"Probability that the two cookies came from Bowl 2: %.3f\" % prob_bowl2)"
      ],
      "metadata": {
        "colab": {
          "base_uri": "https://localhost:8080/"
        },
        "id": "y7iX23W0_PSj",
        "outputId": "9556d3ed-b6ad-4ec0-aa5b-30f7f1028f57"
      },
      "execution_count": 22,
      "outputs": [
        {
          "output_type": "stream",
          "name": "stdout",
          "text": [
            "Probability that the two cookies came from Bowl 2: 0.515\n"
          ]
        }
      ]
    },
    {
      "cell_type": "markdown",
      "source": [
        "### 3.The Archery Problem"
      ],
      "metadata": {
        "id": "Mfa6niWDfFwj"
      }
    },
    {
      "cell_type": "markdown",
      "source": [
        "**Coding Exercise 6**"
      ],
      "metadata": {
        "id": "RZt3Czc-E7x-"
      }
    },
    {
      "cell_type": "code",
      "source": [
        "hypotheses = [\"Beginner\", \"Intermediate\", \"Advanced\", \"Expert\"]\n",
        "priors = [0.25, 0.25, 0.25, 0.25]\n",
        "observations = [\"Yellow\", \"Red\", \"Blue\", \"Black\", \"White\"]\n",
        "likelihood = [\n",
        "    [0.05, 0.1, 0.4, 0.25, 0.2],       # Beginner\n",
        "    [0.1, 0.2, 0.4, 0.2, 0.1],         # Intermediate\n",
        "    [0.2, 0.4, 0.25, 0.1, 0.05],       # Advanced\n",
        "    [0.3, 0.5, 0.125, 0.05, 0.025]     # Expert\n",
        "]\n",
        "\n",
        "bayes = Bayes(hypotheses, priors, observations, likelihood)\n"
      ],
      "metadata": {
        "id": "qX_HgKj5fHlb"
      },
      "execution_count": 27,
      "outputs": []
    },
    {
      "cell_type": "markdown",
      "source": [
        "**Question 3**"
      ],
      "metadata": {
        "id": "-0vXhtmPFAN8"
      }
    },
    {
      "cell_type": "code",
      "source": [
        "# Compute the posterior probabilities after observing the sequence\n",
        "posterior_probabilities = bayes.compute_posterior([\"Yellow\", \"White\", \"Blue\", \"Red\", \"Red\", \"Blue\"])\n",
        "\n",
        "# Answer to Question 3\n",
        "print(\"Probability that the archer is at an intermediate level: %.3f\" % posterior_probabilities[1])"
      ],
      "metadata": {
        "colab": {
          "base_uri": "https://localhost:8080/"
        },
        "id": "_vzlV2ZUfm-J",
        "outputId": "4a67a201-d4c2-4c43-d9b9-9d50a96a5d0c"
      },
      "execution_count": 30,
      "outputs": [
        {
          "output_type": "stream",
          "name": "stdout",
          "text": [
            "Probability that the archer is at an intermediate level: 0.340\n"
          ]
        }
      ]
    },
    {
      "cell_type": "markdown",
      "source": [
        "**Question 4**"
      ],
      "metadata": {
        "id": "E71D0MOXFEce"
      }
    },
    {
      "cell_type": "code",
      "source": [
        "# Answer to Question 4\n",
        "most_likely_level_index = posterior_probabilities.index(max(posterior_probabilities))\n",
        "print(\"The most likely level of the archer is: %s\" % hypotheses[most_likely_level_index])"
      ],
      "metadata": {
        "colab": {
          "base_uri": "https://localhost:8080/"
        },
        "id": "r7JJEt6HfrbS",
        "outputId": "7abcbae1-ee3e-433c-c540-b906dfbff8e9"
      },
      "execution_count": 29,
      "outputs": [
        {
          "output_type": "stream",
          "name": "stdout",
          "text": [
            "The most likely level of the archer is: Beginner\n"
          ]
        }
      ]
    }
  ]
}